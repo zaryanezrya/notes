{
  "cells": [
    {
      "cell_type": "markdown",
      "metadata": {},
      "source": [
        "<a target=\"_blank\" href=\"https://colab.research.google.com/github/zaryanezrya/notes/blob/master/smooth_nn_intro.ipynb\">\n",
        "  <img src=\"https://colab.research.google.com/assets/colab-badge.svg\" alt=\"Open In Colab\"/>\n",
        "</a>"
      ]
    },
    {
      "cell_type": "markdown",
      "metadata": {},
      "source": [
        "# Очень плавное введение в нейронные сети\n",
        "\n",
        "Это ранняя версия, WIP. Если находите ошибки, то открывайте issues"
      ]
    },
    {
      "cell_type": "code",
      "execution_count": null,
      "metadata": {},
      "outputs": [],
      "source": [
        "%%capture\n",
        "%pip install numpy matplotlib"
      ]
    },
    {
      "cell_type": "markdown",
      "metadata": {
        "id": "05NMrvUhvobU"
      },
      "source": [
        "# Часть 1. Оптимизация и градиентный спуск\n",
        "\n",
        "Путь дана функция: $$F(x) = (10-x)^2$$\n",
        "\n",
        "Отобразим её на графике:"
      ]
    },
    {
      "cell_type": "code",
      "execution_count": null,
      "metadata": {
        "id": "N9XI0rcKPaEo"
      },
      "outputs": [],
      "source": [
        "%matplotlib inline"
      ]
    },
    {
      "cell_type": "code",
      "execution_count": null,
      "metadata": {
        "colab": {
          "base_uri": "https://localhost:8080/",
          "height": 430
        },
        "id": "CQBwMYJTyzPP",
        "outputId": "941b8a49-aebe-45cb-8972-aff0606fec64"
      },
      "outputs": [],
      "source": [
        "import numpy as np\n",
        "from matplotlib import pyplot as plt\n",
        "\n",
        "def F(x):\n",
        "  return (10-x)**2\n",
        "\n",
        "x = np.linspace(5, 15, 100)\n",
        "\n",
        "plt.plot(x, F(x), color='blue')\n",
        "\n",
        "plt.show()"
      ]
    },
    {
      "cell_type": "markdown",
      "metadata": {
        "id": "n6lBxU1E0PZO"
      },
      "source": [
        "Задача: найти такой $x \\in \\mathbb{R}$, чтобы $F(x)$ принимала минимально значение, т.е.:\n",
        "$$\\underset{x \\in \\mathbb{R}}{\\min} F(x)$$\n",
        "\n",
        "Попытаемся режить эту задачу [методом градиентного спуска](https://ru.wikipedia.org/wiki/%D0%93%D1%80%D0%B0%D0%B4%D0%B8%D0%B5%D0%BD%D1%82%D0%BD%D1%8B%D0%B9_%D1%81%D0%BF%D1%83%D1%81%D0%BA).\n",
        "\n",
        "Идея метода:\n",
        "$${x}_{j+1}=x_j-\\lambda_j \\nabla F\\left(x_j\\right), j \\in [0, n] $$\n",
        "\n",
        "Обозначения:\n",
        "- $j$ -- номер итерации\n",
        "- $\\nabla F\\left(x_j\\right)$  - градиент функции $F$ в точке $x_j$.\n",
        "- $\\lambda_j$ -- размер шага. Важно обратить внимание на индекс $j$. Размер шага может меняться в зависимости от номера итерации.\n",
        "\n",
        "Шаги:\n",
        "1. Выбрать начальное приближение ($x_0$).\n",
        "2. Проверить условия остановки\n",
        "  - количество итераций\n",
        "  - $|F(x_j) - F(x_{j+1}) | \\leq ϵ$\n",
        "3. Вычислить значение $\\nabla F\\left(x_j\\right)$\n",
        "4. Вычислить значение $x_{j+1}$\n",
        "5. Вернуться к шагу 2"
      ]
    },
    {
      "cell_type": "markdown",
      "metadata": {
        "id": "Dh8mNRSA6Sc3"
      },
      "source": [
        "Для начала найдём градиент $$F(x) = (10-x)^2$$\n",
        "$$\\frac{\\partial F}{\\partial x} = -2\\,\\left(10-x\\right) = 2x - 20$$\n",
        "\n",
        "Теперь реализуем описанные выше шаги алгоритма градиентного спуска в коде, в виде простого цикла:"
      ]
    },
    {
      "cell_type": "code",
      "execution_count": null,
      "metadata": {
        "colab": {
          "base_uri": "https://localhost:8080/"
        },
        "id": "fpCLyCeizNxd",
        "outputId": "4b045394-799f-4bb3-ec41-31c171662e96"
      },
      "outputs": [],
      "source": [
        "import math\n",
        "\n",
        "def dFdx(x):\n",
        "  return 2*x - 20\n",
        "\n",
        "# lmbd = 0.01\n",
        "# lmbd = 0.9\n",
        "lmbd = 0.3\n",
        "\n",
        "num_iter = 20\n",
        "eps = 0.1\n",
        "# eps = 0.0000001\n",
        "\n",
        "x_0 = 5\n",
        "x = {0: x_0}\n",
        "for j in range(0, num_iter):\n",
        "  x[j+1] = x[j] - lmbd * dFdx(x[j])\n",
        "  if math.fabs(x[j+1] - x[j]) <= eps:\n",
        "    break\n",
        "\n",
        "for j in x.keys():\n",
        "  print('x_{}={:6.2f} \\t F(x)={:6.2f} \\t grad= {:6.2f}'.format(j, x[j], F(x[j]), dFdx(x[j])))"
      ]
    },
    {
      "cell_type": "markdown",
      "metadata": {
        "id": "gXjzC-VY-khK"
      },
      "source": [
        "Отобразим шаги на графике функции:"
      ]
    },
    {
      "cell_type": "code",
      "execution_count": null,
      "metadata": {
        "colab": {
          "background_save": true,
          "base_uri": "https://localhost:8080/",
          "height": 430
        },
        "id": "V6tvXeBMG8tt",
        "outputId": "a3acce49-9446-40f1-8e1b-2472cf5fd94f"
      },
      "outputs": [],
      "source": [
        "x_gd = np.asarray(list(x.values()))\n",
        "y_gd = np.asarray(list(map(F, x_gd)))\n",
        "\n",
        "# x_for_F = np.linspace(min(x_gd.min(), 9), max(x_gd.max(), 11), 100) #\n",
        "x_for_F = np.linspace(5, 15, 100)\n",
        "\n",
        "\n",
        "plt.plot(x_for_F, F(x_for_F), color='blue')\n",
        "plt.quiver(x_gd[:-1], y_gd[:-1], x_gd[1:]-x_gd[:-1], y_gd[1:]-y_gd[:-1], scale_units='xy', angles='xy', scale=1)\n",
        "\n",
        "plt.show()"
      ]
    },
    {
      "cell_type": "markdown",
      "metadata": {
        "id": "KaCZ19NwRUgE"
      },
      "source": [
        "# Часть 2. Пример 1: линейная регрессия\n",
        "\n",
        "Имеется набор данных:\n",
        "\n",
        "|№|  x | y  |\n",
        "|---|---|---|\n",
        "|1| 10  | 22  |\n",
        "\n",
        "Да, в наборе всего лишь одно наблюдение. Требуется найти k и b для уравнения прямой: $$f(x)=kx+b$$\n",
        "\n",
        "Следует вспомнить понятие функции потерь.\n",
        "\n",
        "*Функция потерь* (Loss-функция) -- математическая мера того, насколько модель ошибается в своих прогнозах по сравнению с правильными ответами. В машинном обучении обозначается как $L$ или $E$.\n",
        "\n",
        "Ранее для решения задачи регрессии мы уже использовали квадратичную функцию потерь (MSE):\n",
        "$$E(y, \\hat{y})=\\frac{1}{m}{\\sum_{i=1}^{m}(y_i-\\hat{y}_i)^2}$$\n",
        "\n",
        "- $m$ -- количество наблюдений. В нашем случае $m=1$\n",
        "- $y_i$ -- истинные ответы. В нашем случае он один: $y=22$\n",
        "- $\\hat{y}_i$ -- предсказания, результат вычисления $f(x)$\n",
        "\n",
        "Перепишем функцию потерь, осуществив некоторые замены:\n",
        "\n",
        "$$E(y, \\hat{y})=\\frac{1}{m}{\\sum_{i=1}^{m}(y_i-\\hat{y}_i)^2} =$$\n",
        "\n",
        "$$(y-\\hat{y})^2 =$$\n",
        "\n",
        "$$(y-f(x))^2 =$$\n",
        "\n",
        "$$(22-f(10))^2 =$$\n",
        "\n",
        "$$(22-(10k+b))^2 = $$\n",
        "\n",
        "$$(22-10k-b)^2 $$\n",
        "\n",
        "\n",
        "\n",
        "Таким образом, наша задача сводится к\n",
        "$$\\underset{k,b \\in \\mathbb{R}}{\\min} E$$\n",
        "\n",
        "\n",
        "Нарисуем график зависимости $E$ от $k$ и $b$"
      ]
    },
    {
      "cell_type": "code",
      "execution_count": null,
      "metadata": {
        "colab": {
          "background_save": true
        },
        "id": "zzqIexBFcofc"
      },
      "outputs": [],
      "source": [
        "def f(x, k, b):\n",
        "  return k*x + b\n",
        "\n",
        "def E(y_true, y_pred):\n",
        "  return (y_true - y_pred) ** 2"
      ]
    },
    {
      "cell_type": "code",
      "execution_count": null,
      "metadata": {
        "colab": {
          "background_save": true,
          "base_uri": "https://localhost:8080/",
          "height": 409
        },
        "id": "UB75yEeberXn",
        "outputId": "8d5c292e-48b1-4d5b-e6d9-8e3e9f021904"
      },
      "outputs": [],
      "source": [
        "from matplotlib import cm\n",
        "from matplotlib.ticker import LinearLocator\n",
        "\n",
        "fig, ax = plt.subplots(subplot_kw={\"projection\": \"3d\"})\n",
        "\n",
        "k = np.arange(-50, 50, 0.25)\n",
        "b = np.arange(-30, 100, 0.25)\n",
        "\n",
        "k, b = np.meshgrid(k, b)\n",
        "\n",
        "Z = E(22, f(10, k, b))\n",
        "\n",
        "# Plot the surface.\n",
        "surf = ax.plot_surface(k, b, Z, cmap=cm.coolwarm,\n",
        "                       linewidth=0, antialiased=False)\n",
        "\n",
        "ax.zaxis.set_major_locator(LinearLocator(5))\n",
        "ax.zaxis.set_major_formatter('{x:.02f}')\n",
        "\n",
        "plt.show()"
      ]
    },
    {
      "cell_type": "markdown",
      "metadata": {
        "id": "CD_LegvpeB1s"
      },
      "source": [
        "Для начала найдём градиент функции E:\n",
        "\n",
        "$$\\nabla E = \\left( \\frac{\\partial E}{\\partial k}; \\frac{\\partial E}{\\partial b} \\right) = $$\n",
        "\n",
        "$$\\nabla E = \\left( 200k+20b-440;\\, 2b+20k-44 \\right)  $$\n",
        "\n",
        "\n",
        "И реализуем алгоритм градиентного спуска для данной задачи:"
      ]
    },
    {
      "cell_type": "code",
      "execution_count": null,
      "metadata": {
        "colab": {
          "background_save": true,
          "base_uri": "https://localhost:8080/"
        },
        "id": "3QoJvdlYeMSp",
        "outputId": "3a471b48-057f-4ae0-a4c5-aa6086ea4487"
      },
      "outputs": [],
      "source": [
        "def dEdk(k, b):\n",
        "  return 200*k + 20*b - 440\n",
        "\n",
        "def dEdb(k, b):\n",
        "  return 2*b + 20*k - 44\n",
        "\n",
        "\n",
        "lmbd = 0.001\n",
        "# lmbd = 0.01\n",
        "# lmbd = 0.1\n",
        "\n",
        "num_iter = 40\n",
        "eps = 0.1\n",
        "# eps = 0.0000001\n",
        "\n",
        "# k_0 = 2.5\n",
        "# b_0 = 2.5\n",
        "\n",
        "k_0 = 250\n",
        "b_0 = 150\n",
        "\n",
        "k = {0: k_0}\n",
        "b = {0: b_0}\n",
        "for j in range(0, num_iter):\n",
        "  k[j+1] = k[j] - lmbd * dEdk(k[j], b[j])\n",
        "  b[j+1] = b[j] - lmbd * dEdb(k[j], b[j])\n",
        "  # if math.fabs(x[j+1] - x[j]) <= eps:\n",
        "  #   break\n",
        "\n",
        "for j in k.keys():\n",
        "  print('k_{}={:6.2f} \\t b_{}={:6.2f} \\t E={:6.2f}'.format(j, k[j], j, b[j], E(22, f(10, k[j], b[j]))))\n"
      ]
    },
    {
      "cell_type": "markdown",
      "metadata": {
        "id": "M13kDFBEkk7p"
      },
      "source": [
        "todo: отобразить шаги на графике функции"
      ]
    },
    {
      "cell_type": "markdown",
      "metadata": {
        "id": "Y55mPUpBktMK"
      },
      "source": [
        "# Часть 3. Пример 2: линейная регрессия для нескольких наблюдений\n",
        "\n",
        "Имеется набор данных:\n",
        "\n",
        "|№|  x | y  |\n",
        "|---|---|---|\n",
        "|1| 10  | 22  |\n",
        "|2| 20  | 42  |\n",
        "|3| 30  | 62  |\n",
        "|4| 40  | 82  |\n",
        "|5| 50  | 102  |\n",
        "\n",
        "\n",
        "\n",
        "\n",
        "Отобразим их на графике"
      ]
    },
    {
      "cell_type": "code",
      "execution_count": null,
      "metadata": {
        "colab": {
          "background_save": true,
          "base_uri": "https://localhost:8080/",
          "height": 430
        },
        "id": "RQUdtoiToTpR",
        "outputId": "b98f039b-253b-4370-aa8c-579ee7d09fce"
      },
      "outputs": [],
      "source": [
        "x = [10, 20, 30, 40, 50]\n",
        "y = [22, 42, 62, 82, 102]\n",
        "\n",
        "plt.plot(x, y, color='blue' )\n",
        "\n",
        "plt.show()"
      ]
    },
    {
      "cell_type": "markdown",
      "metadata": {
        "id": "RZL_vpnCpVjZ"
      },
      "source": [
        "Функция потерь та же:\n",
        "\n",
        "$$E(y, \\hat{y})=\\frac{1}{m}{\\sum_{i=1}^{m}(y_i-\\hat{y}_i)^2}$$\n",
        "\n",
        "$$\\frac{1}{m}{\\sum_{i=1}^{m}(y_i-k*x_i-b)^2}$$\n",
        "\n",
        "и задача та же:\n",
        "\n",
        "$$\\underset{k,b \\in \\mathbb{R}}{\\min} E$$\n",
        "\n",
        "График зависимости функции потерь $E$ от $k$ и $b$:\n",
        "\n",
        "\n"
      ]
    },
    {
      "cell_type": "code",
      "execution_count": null,
      "metadata": {
        "colab": {
          "background_save": true
        },
        "id": "fUgxd2_y0NC0"
      },
      "outputs": [],
      "source": [
        "from itertools import repeat\n",
        "\n",
        "x = [10, 20, 30, 40, 50]\n",
        "y = [22, 42, 62, 82, 102]\n",
        "\n",
        "def f(x, k, b):\n",
        "  return k*x + b\n",
        "\n",
        "def E(y_true, y_pred):\n",
        "  sum = 0\n",
        "  for y_1, y_2 in zip(y_true, y_pred):\n",
        "    sum += (y_1-y_2)**2\n",
        "  return sum/len(y_true)\n",
        "\n",
        "# y_pred = list(map(f, x, repeat(2), repeat(2)))\n",
        "# E(y, y_pred)"
      ]
    },
    {
      "cell_type": "code",
      "execution_count": null,
      "metadata": {
        "colab": {
          "background_save": true,
          "base_uri": "https://localhost:8080/",
          "height": 409
        },
        "id": "X35o_2LizeXR",
        "outputId": "a9ecbfb8-b94d-400f-bdb3-d874f935808b"
      },
      "outputs": [],
      "source": [
        "fig, ax = plt.subplots(subplot_kw={\"projection\": \"3d\"})\n",
        "\n",
        "k = np.arange(-50, 50, 0.25)\n",
        "b = np.arange(-30, 100, 0.25)\n",
        "\n",
        "k, b = np.meshgrid(k, b)\n",
        "\n",
        "Z = E(y, list(map(f, x, repeat(k), repeat(b))))\n",
        "\n",
        "# Plot the surface.\n",
        "surf = ax.plot_surface(k, b, Z, cmap=cm.coolwarm,\n",
        "                       linewidth=0, antialiased=False)\n",
        "\n",
        "ax.zaxis.set_major_locator(LinearLocator(5))\n",
        "ax.zaxis.set_major_formatter('{x:.02f}')\n",
        "\n",
        "plt.show()"
      ]
    },
    {
      "cell_type": "markdown",
      "metadata": {
        "id": "YpRLdRa9za_U"
      },
      "source": [
        "Найдём градиент:\n",
        "\n",
        "$$\\nabla E = \\left( \\frac{\\partial E}{\\partial k}; \\frac{\\partial E}{\\partial b} \\right) $$\n",
        "\n",
        "$$\\frac{\\partial E}{\\partial k} =  \\frac{2}{m}{\\sum_{i=1}^{m}(y_i-k*x_i-b)}*[-x_i]$$\n",
        "\n",
        "$$\\frac{\\partial E}{\\partial b} =  \\frac{2}{m}{\\sum_{i=1}^{m}(y_i-k*x_i-b)}*[-1]$$\n",
        "\n",
        "И реализуем:\n"
      ]
    },
    {
      "cell_type": "code",
      "execution_count": null,
      "metadata": {
        "colab": {
          "background_save": true,
          "base_uri": "https://localhost:8080/"
        },
        "id": "WUP0_uMnxv4s",
        "outputId": "a2eb69d7-e6e5-454b-847c-2210221dc799"
      },
      "outputs": [],
      "source": [
        "# fixme\n",
        "def dEdk(k, b, x, y):\n",
        "  sum = 0\n",
        "  for i in range(len(x)):\n",
        "    sum += y[i] - k*x[i] - b\n",
        "  return (-2*sum*k)/len(x)\n",
        "\n",
        "\n",
        "def dEdb(k, b, x, y):\n",
        "  sum = 0\n",
        "  for i in range(len(x)):\n",
        "    sum += y[i] - k*x[i] - b\n",
        "  return (-2*sum)/len(x)\n",
        "\n",
        "\n",
        "lmbd = 0.001\n",
        "# lmbd = 0.01\n",
        "# lmbd = 0.1\n",
        "\n",
        "num_iter = 40\n",
        "eps = 0.1\n",
        "# eps = 0.0000001\n",
        "\n",
        "k_0 = 2.5\n",
        "b_0 = 2.5\n",
        "\n",
        "# k_0 = 3\n",
        "# b_0 = 3\n",
        "\n",
        "k = {0: k_0}\n",
        "b = {0: b_0}\n",
        "for j in range(0, num_iter):\n",
        "  k[j+1] = k[j] - lmbd * dEdk(k[j], b[j], x, y)\n",
        "  b[j+1] = b[j] - lmbd * dEdb(k[j], b[j], x, y)\n",
        "  # if math.fabs(x[j+1] - x[j]) <= eps:\n",
        "  #   break\n",
        "\n",
        "for j in k.keys():\n",
        "  print('k_{}={:6.2f} \\t b_{}={:6.2f}'.format(j, k[j], j, b[j]))\n"
      ]
    },
    {
      "cell_type": "markdown",
      "metadata": {
        "id": "wgWp4QDc3370"
      },
      "source": [
        "# Часть 4. Пример 3: линейная регрессия для нескольких наблюдений и нескольких признаков\n",
        "\n",
        "в случае $m$ наблюдейний и $n$ признаков функция потерь та же:\n",
        "$$E(y, \\hat{y})=\\frac{1}{m}{\\sum_{i=1}^{m}(y_i-\\hat{y}_i)^2}$$\n",
        "\n",
        "Но теперь за $\\hat{y}$ скрывается $\\hat{y}=w_1 x_1 + w_2 x_2 + \\dots w_n x_n + b $\n",
        "\n",
        "Вместо одного $k$ теперь присутствует несколько $w_j, \\, j \\in [1, n]$ -- для каждого признака.\n",
        "\n",
        "Визуализировать граф вычислений для $\\hat{y}$ можно следующим образом:"
      ]
    },
    {
      "cell_type": "markdown",
      "metadata": {
        "id": "N2t1ucHI6LAv"
      },
      "source": [
        "![image.png](data:image/png;base64,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)"
      ]
    },
    {
      "cell_type": "code",
      "execution_count": null,
      "metadata": {
        "colab": {
          "background_save": true,
          "base_uri": "https://localhost:8080/"
        },
        "id": "Eqvf3-0x-ss_",
        "outputId": "5da24787-3ff0-4ed1-d599-8b560cc56c2f"
      },
      "outputs": [],
      "source": [
        "w = np.array([2, 3, 4])\n",
        "b = 10\n",
        "x = np.array([2, 3, 4])\n",
        "\n",
        "sum = 0\n",
        "for j in range(0, len(x)):\n",
        "  sum += w[j]*x[j]\n",
        "sum += b\n",
        "\n",
        "sum"
      ]
    },
    {
      "cell_type": "markdown",
      "metadata": {
        "id": "7AIlB4rZAtL8"
      },
      "source": [
        "Можно $b$ закинуть в веса, нужно просто добавить ещё один признак в объект:"
      ]
    },
    {
      "cell_type": "code",
      "execution_count": null,
      "metadata": {
        "colab": {
          "background_save": true,
          "base_uri": "https://localhost:8080/"
        },
        "id": "CsCTxvPIAscl",
        "outputId": "40a95407-41b8-4646-e097-5fb9c0464b18"
      },
      "outputs": [],
      "source": [
        "w = np.array([2, 3, 4, 10])\n",
        "x = np.array([2, 3, 4, 1])\n",
        "\n",
        "sum = 0\n",
        "for j in range(0, len(x)):\n",
        "  sum += w[j]*x[j]\n",
        "\n",
        "sum"
      ]
    },
    {
      "cell_type": "markdown",
      "metadata": {
        "id": "HayAJjAfA8Zv"
      },
      "source": [
        "&nbsp;\n",
        "\n",
        "&nbsp;\n",
        "\n",
        "&nbsp;\n",
        "\n",
        "&nbsp;\n",
        "\n",
        "&nbsp;\n",
        "\n",
        "&nbsp;\n",
        "\n",
        "&nbsp;\n",
        "\n",
        "&nbsp;\n",
        "\n",
        "&nbsp;\n",
        "\n",
        "&nbsp;\n",
        "\n",
        "&nbsp;\n",
        "\n",
        "---"
      ]
    },
    {
      "cell_type": "markdown",
      "metadata": {
        "id": "9J9e3U-08YP0"
      },
      "source": [
        "![](./assets/smooth_nn_intro/meme.png)"
      ]
    },
    {
      "cell_type": "markdown",
      "metadata": {
        "id": "u0y_t6sJCU8p"
      },
      "source": [
        "![image.png](data:image/png;base64,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)"
      ]
    },
    {
      "cell_type": "markdown",
      "metadata": {
        "id": "PSUOu3pIChw9"
      },
      "source": [
        "&nbsp;\n",
        "\n",
        "&nbsp;\n",
        "\n",
        "&nbsp;\n",
        "\n",
        "&nbsp;\n",
        "\n",
        "&nbsp;\n",
        "\n",
        "&nbsp;\n",
        "\n",
        "&nbsp;\n",
        "\n",
        "&nbsp;\n",
        "\n",
        "&nbsp;\n",
        "\n",
        "&nbsp;\n",
        "\n",
        "&nbsp;\n",
        "\n",
        "---"
      ]
    },
    {
      "cell_type": "code",
      "execution_count": null,
      "metadata": {
        "colab": {
          "background_save": true,
          "base_uri": "https://localhost:8080/"
        },
        "id": "121jDh_SBY72",
        "outputId": "f226497f-a1a3-4c59-b39a-56a7b9df62d9"
      },
      "outputs": [],
      "source": [
        "w = np.array([2, 3, 4])\n",
        "b = 10\n",
        "x = np.array([2, 3, 4])\n",
        "\n",
        "w.T.dot(x) + 10"
      ]
    },
    {
      "cell_type": "code",
      "execution_count": null,
      "metadata": {
        "colab": {
          "background_save": true,
          "base_uri": "https://localhost:8080/"
        },
        "id": "huhtnMZuCkSD",
        "outputId": "65578fa4-9a50-45f8-e870-e84e8e7fdb1e"
      },
      "outputs": [],
      "source": [
        "w = np.array([2, 3, 4, 10])\n",
        "x = np.array([2, 3, 4, 1])\n",
        "\n",
        "w.T.dot(x)"
      ]
    },
    {
      "cell_type": "markdown",
      "metadata": {
        "id": "-JRan-k_DZRH"
      },
      "source": [
        "Вернёмся снова к функции потерь:\n",
        "\n",
        "$$E(y, \\hat{y})=\\frac{1}{m}{\\sum_{i=1}^{m}(y_i-\\hat{y}_i)^2}$$\n",
        "\n",
        "$$\\hat{y}=w_1 x_1 + w_2 x_2 + \\dots w_n x_n + b =  \\langle w \\; , \\; x\\rangle + b$$\n",
        "\n",
        "Найдём градиент:\n",
        "\n",
        "$$\\nabla E = \\left( \\frac{\\partial E}{\\partial w_1}; \\frac{\\partial E}{\\partial w_2}; \\dots; \\frac{\\partial E}{\\partial w_n}; \\frac{\\partial E}{\\partial b} \\right) $$\n",
        "\n",
        "$$\\frac{\\partial E}{\\partial w_1} =  \\frac{2}{m}{\\sum_{i=1}^{m}(y_i-\\langle w \\; , \\; x\\rangle-b)}*[-w_1]$$\n",
        "$$\\frac{\\partial E}{\\partial w_2} =  \\frac{2}{m}{\\sum_{i=1}^{m}(y_i-\\langle w \\; , \\; x\\rangle-b)}*[-w_2]$$\n",
        "$$\\dots$$\n",
        "$$\\frac{\\partial E}{\\partial w_n} =  \\frac{2}{m}{\\sum_{i=1}^{m}(y_i-\\langle w \\; , \\; x\\rangle-b)}*[-w_n]$$\n",
        "\n",
        "$$\\frac{\\partial E}{\\partial b} =  \\frac{2}{m}{\\sum_{i=1}^{m}(y_i-\\langle w \\; , \\; x\\rangle-b)}*[-1]$$"
      ]
    },
    {
      "cell_type": "markdown",
      "metadata": {
        "id": "1OmyAvZEIGi1"
      },
      "source": [
        "Если кажется, что можно посчитать $\\frac{2}{m}{\\sum_{i=1}^{m}(y_i-\\langle w \\; , \\; x\\rangle-b)}$ только один раз, то всё верно.\n",
        "\n",
        "В итоге получаем умножение вектора на скаляр.\n",
        "\n",
        "Реализуем:"
      ]
    },
    {
      "cell_type": "code",
      "execution_count": null,
      "metadata": {
        "colab": {
          "background_save": true,
          "base_uri": "https://localhost:8080/"
        },
        "id": "RJl8ZbNQHxGS",
        "outputId": "65a498da-6b14-496e-805c-8315041a2835"
      },
      "outputs": [],
      "source": [
        "def t(y, w, x, b):\n",
        "  y_pred = w.T.dot(x) - b\n",
        "  return (y - y_pred).mean() * 2\n",
        "\n",
        "\n",
        "x = np.array([\n",
        "  [1, 2, 3],\n",
        "  [2, 3, 4],\n",
        "  [3, 4, 5]\n",
        "])\n",
        "y = np.array([13, 19, 25])\n",
        "\n",
        "w = np.array([1, 2, 3])\n",
        "b = 1\n",
        "\n",
        "t(y, w, x, b)"
      ]
    },
    {
      "cell_type": "code",
      "execution_count": null,
      "metadata": {
        "colab": {
          "background_save": true,
          "base_uri": "https://localhost:8080/"
        },
        "id": "tC6S2CpGLAZy",
        "outputId": "6f1586a8-88f1-43c3-822f-422548d09765"
      },
      "outputs": [],
      "source": [
        "def dEdw(y, w, x, b):\n",
        "  return t(y, w, x, b) * w\n",
        "\n",
        "dEdw(y, w, x, b)"
      ]
    },
    {
      "cell_type": "code",
      "execution_count": null,
      "metadata": {
        "colab": {
          "background_save": true
        },
        "id": "tLKEd49eLdLj"
      },
      "outputs": [],
      "source": [
        "def dEdw(y, w, x, b):\n",
        "  return t(y, w, x, b) * w * (-1)\n",
        "\n",
        "def dEdb(y, w, x, b):\n",
        "  return t(y, w, x, b) * (-1)"
      ]
    },
    {
      "cell_type": "code",
      "execution_count": null,
      "metadata": {
        "colab": {
          "background_save": true
        },
        "id": "hlH6_RbGPfWL"
      },
      "outputs": [],
      "source": [
        "def E(y, w, x, b):\n",
        "  y_pred = w.T.dot(x) - b\n",
        "  return ((y - y_pred)**2).sum() / len(x)\n"
      ]
    },
    {
      "cell_type": "code",
      "execution_count": null,
      "metadata": {
        "colab": {
          "background_save": true,
          "base_uri": "https://localhost:8080/"
        },
        "id": "FNE6RE2bLpcU",
        "outputId": "a97d6347-190b-4419-e9b9-eef834cffc0c"
      },
      "outputs": [],
      "source": [
        "lmbd = 0.0001\n",
        "# lmbd = 0.01\n",
        "# lmbd = 0.1\n",
        "\n",
        "num_iter = 20\n",
        "eps = 0.1\n",
        "# eps = 0.0000001\n",
        "\n",
        "\n",
        "x = np.array([\n",
        "  [1, 2, 3],\n",
        "  [2, 3, 4],\n",
        "  [3, 4, 5]\n",
        "])\n",
        "y = np.array([13, 19, 25])\n",
        "\n",
        "w_0 = np.array([1.1, 2.1, 3.1])\n",
        "b_0 = 1.1\n",
        "\n",
        "w = {0: w_0}\n",
        "b = {0: b_0}\n",
        "for j in range(0, num_iter):\n",
        "  w[j+1] = w[j] - lmbd * dEdw(y, w[j], x, b[j])\n",
        "  b[j+1] = b[j] - lmbd * dEdb(y, w[j], x, b[j])\n",
        "  # if math.fabs(x[j+1] - x[j]) <= eps:\n",
        "  #   break\n",
        "\n",
        "for j in w.keys():\n",
        "  # print('k_{}={:6.2f} \\t b_{}={:6.2f}'.format(j, k[j], j, b[j]))\n",
        "  print(f'{w[j]} {b[j]} E={E(y, w[j], x, b[j])}')"
      ]
    },
    {
      "cell_type": "markdown",
      "metadata": {
        "id": "nyoRn0tuQ2-4"
      },
      "source": [
        "# Часть 5. Пример 4: Логистическая регрессия в случае бинарной классификации"
      ]
    },
    {
      "cell_type": "markdown",
      "metadata": {
        "id": "ymjexAnsRPX7"
      },
      "source": [
        "Идея логистической регрессии в случае бинарной классификации очень похожа на идею предыдущих методов. Но теперь на выходе из модели требуется получить не  $\\hat{y} \\in \\mathbb{R}$, а $\\hat{y} \\in [0,\\, 1]$, где 0 и 1 -- метки классов.\n",
        "\n",
        "Для отображения ответа линейной регрессии в $ [0,\\, 1]$ используется логистическая функция, а именно сигмоидная:\n",
        "$$\\sigma(x) = \\frac{1}{1 + e^{-x}}$$\n",
        "\n",
        "Отобразим её на графике:"
      ]
    },
    {
      "cell_type": "code",
      "execution_count": null,
      "metadata": {
        "colab": {
          "base_uri": "https://localhost:8080/",
          "height": 430
        },
        "id": "lEQ3A3UFUdf3",
        "outputId": "9fe0d63e-4daa-423b-b9d4-6eb88dc18d9a"
      },
      "outputs": [],
      "source": [
        "def sigma(x):\n",
        "  return 1 / (1 + math.exp(-x))\n",
        "\n",
        "x = np.linspace(-10, 10, 100)\n",
        "y = list(map(sigma, x))\n",
        "\n",
        "plt.plot(x, y, color='blue')\n",
        "\n",
        "plt.show()"
      ]
    },
    {
      "cell_type": "markdown",
      "metadata": {
        "id": "9dGA0RalVTqc"
      },
      "source": [
        "Граф вычисления модели приобретает следующий вид:"
      ]
    },
    {
      "cell_type": "markdown",
      "metadata": {
        "id": "8GKLmhRiVYbg"
      },
      "source": [
        "![image.png](data:image/png;base64,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)"
      ]
    },
    {
      "cell_type": "markdown",
      "metadata": {
        "id": "cIOLO1gncSdB"
      },
      "source": [
        "Уже большеват. А ещё нужно и функцию потерь посчитать. Градиенты считать всё труднее. Здесь и приходит на помощь **алгоритм обратного распространения ошибки** (Backpropagation)."
      ]
    },
    {
      "cell_type": "markdown",
      "metadata": {
        "id": "-zMoMs2zqzhh"
      },
      "source": [
        "## Когда классов > 2\n",
        "\n",
        "todo: ещё плавнее\n",
        "\n",
        "https://viewer.diagrams.net/?tags=%7B%7D&highlight=0000ff&edit=_blank&layers=1&nav=1&title=NN.drawio#Uhttps%3A%2F%2Fdrive.google.com%2Fuc%3Fid%3D1KKLCVtgt9VzP0OmPiHU1I97FGPiK8xSu%26export%3Ddownload"
      ]
    },
    {
      "cell_type": "markdown",
      "metadata": {
        "id": "DBkwRPhbpld-"
      },
      "source": [
        "![image.png](data:image/png;base64,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)"
      ]
    },
    {
      "cell_type": "markdown",
      "metadata": {
        "id": "ZWOQO73kc6GE"
      },
      "source": [
        "# Часть 6. Backprop.\n",
        "\n",
        "Выше мы уже применяли выше цепное правило (chain rule) для дифференцирования сложной функции. Идея простая:\n",
        "\n",
        "$$y=y(g(x)),$$ \n",
        "производная: \n",
        "$${\\frac{dy}{dx}}={\\frac{dy}{dg}}{\\frac{dg}{dx}}$$\n",
        "\n",
        "Каждый компонент использует значения частных производных функции потерь по своему выходу для непосредственного вычисления частных производных функции потерь по $W$ и $b$, а также передает предыдущему компоненту вычисленные значения производной функии потерь по своему входу. Далее компонент с использованием оптимизатора делает шаг градиентного спуска (обновляются значения весов $W$ и $b$). Обновление весов выполняется ПОСЛЕ вычисления частных производных по весам.\n",
        "\n",
        "Давайте представим весь граф вычислений в виде композиции функций:\n",
        "\n",
        "$$E(y, \\sigma(t(x))),$$ \n",
        "где\n",
        "$$t(x) = W^T ⋅ x + b$$\n",
        "\n",
        "Градиент по весам:\n",
        "\n",
        "$${\\frac{dE}{dw}}={\\frac{dE}{d\\sigma}}{\\frac{d\\sigma}{dt}}{\\frac{dt}{dw}}$$\n",
        "\n",
        "Градиент по смещению:\n",
        "\n",
        "$${\\frac{dE}{db}}={\\frac{dE}{d\\sigma}}{\\frac{d\\sigma}{dt}}{\\frac{dt}{db}}$$\n"
      ]
    },
    {
      "cell_type": "markdown",
      "metadata": {
        "id": "4-osuZ50h40l"
      },
      "source": [
        "## Разбираемся как считать.\n",
        "\n",
        "Пусть дано ${\\frac{dE}{d\\sigma}}$, тогда мы сможем посчитать ${\\frac{dE}{dt}}$. Тогда сможем посчитать:\n",
        "- ${\\frac{dE}{dw}}$\n",
        "- ${\\frac{dE}{db}}$\n",
        "- ${\\frac{dE}{dx}}$\n",
        "\n",
        "---\n",
        "\n",
        "## Считаем ${\\frac{dE}{dt}}$\n",
        "\n",
        "$$ \\frac{dE}{dt_1} = \\frac{dE}{d\\sigma_1} \\frac{d\\sigma_1}{dt_1} = \\frac{dE}{d\\sigma_1} \\sigma'(t_1)\n",
        " $$\n",
        "\n",
        "$$ \\frac{dE}{dt_2} = \\frac{dE}{d\\sigma_2} \\frac{d\\sigma_2}{dt_2} = \\frac{dE}{d\\sigma_2} \\sigma'(t_2)\n",
        " $$\n",
        "\n",
        "$$ \\frac{dE}{dt_3} = \\frac{dE}{d\\sigma_3} \\frac{d\\sigma_3}{dt_3} = \\frac{dE}{d\\sigma_3} \\sigma'(t_3)\n",
        " $$\n",
        "\n",
        "В итоге:\n",
        "\n",
        "$$ \\frac{dE}{d\\sigma} =\\{ \\frac{dE}{d\\sigma_1},\\frac{dE}{d\\sigma_2},\n",
        "\\frac{dE}{d\\sigma_3} \\}\n",
        " $$\n",
        "\n",
        "$$\\sigma'(t) = [\\sigma'(t_1), \\sigma'(t_2), \\sigma'(t_3)]$$\n",
        "\n",
        "$$\\frac{dE}{dt} = \\frac{dE}{d\\sigma} \\odot \\sigma'(t)$$\n",
        "\n",
        "${\\frac{dE}{dt}}$ есть.\n",
        "\n",
        "---\n",
        "\n",
        "## Считаем $\\frac{dE}{dW}$\n",
        "\n",
        "$$\\frac{dE}{dw_{11}} = \\frac{dE}{dt_{1}}\n",
        " \\frac{dt_1}{dw_{11}} = \\frac{dE}{dt_{1}}x_1\n",
        "$$\n",
        "\n",
        "$$\\frac{dE}{dw_{21}} = \\frac{dE}{dt_{1}}\n",
        " \\frac{dt_1}{dw_{21}} = \\frac{dE}{dt_{1}}x_2\n",
        "$$\n",
        "\n",
        "$$\\frac{dE}{dw_{12}} = \\frac{dE}{dt_{2}}\n",
        " \\frac{dt_2}{dw_{12}} = \\frac{dE}{dt_{2}}x_1\n",
        "$$\n",
        "\n",
        "В итоге:\n",
        "\n",
        "$$\\frac{dE}{dW}  = X^T · \\frac{dE}{dt}$$\n",
        "\n",
        "---\n",
        "\n",
        "## Считаем $\\frac{dE}{db}$\n",
        "\n",
        "$$\\frac{dE}{db_{1}} = \\frac{dE}{dt_{1}}\n",
        " \\frac{dt_1}{db_{1}} = \\frac{dE}{dt_{1}} * 1\n",
        "$$\n",
        "\n",
        "В итоге:\n",
        "\n",
        "$$\\frac{dE}{db} = \\frac{dE}{dt}$$\n",
        "\n",
        "---\n",
        "\n",
        "## Считаем $\\frac{dE}{dx}$\n",
        "\n",
        "$$\\frac{dE}{dx_1}  =\\frac{dE}{dt_1} \\frac{dt_1}{dx_1} + \\frac{dE}{dt_2} \\frac{dt_2}{dx_1} + \\frac{dE}{dt_3}\\frac{dt_3}{dx_1} = \\frac{dE}{dt_1} w_{11} + \\frac{dE}{dt_2} w_{12} + \\frac{dE}{dt_3}w_{13}\n",
        " $$\n",
        "\n",
        "В итоге:\n",
        "\n",
        "$$\\frac{dE}{dx}  = \\frac{dE}{dt} W^T$$"
      ]
    },
    {
      "cell_type": "markdown",
      "metadata": {
        "id": "Iubn1XB-V4Hr"
      },
      "source": [
        "А что с функцией потерь в классификации?\n",
        "\n",
        "MSE может быть использована, но по ряду причин совсем не подходит для решения задачи классификации.\n",
        "\n",
        "todo: расписать.\n",
        "\n",
        "Короткий ответ от коллеги с приятным акцентом: https://www.youtube.com/watch?v=bNwI3IUOKyg"
      ]
    },
    {
      "cell_type": "markdown",
      "metadata": {
        "id": "jy5rVDJTV4Nr"
      },
      "source": [
        "При решении задач классификации (в общем случае, когда количество классов больше двух), как правило, применяется функция потерь перекрестная энтропия (при бинарной классификации применяется ее частный случай - бинарная перекрестная кросэнтропия).\n",
        "\n",
        "Общий случай: $E = -\\sum_{k}^{s}{{y_k}ln{\\hat{y_k}}}$. Здесь s - количество классов. При использовании такой функции потерь, предполагается, что целевой признак размечен (например, для случая двух классов) как [1, 0]. Это оначает, что объект относится к 0 классу. Предположим, модель предсказала ответ [0,36, 0,64]. Она ошиблась. Можно посчитать значение перекрестной энтропии и обновить веса.\n",
        "\n",
        "Как вы видите, использование перекрестной энтропии требует, чтобы сумма значений нейронов была единица и все числа были положительными. Для получения такого результата на произвольном слое с нейронами используется функция softmax."
      ]
    },
    {
      "cell_type": "markdown",
      "metadata": {
        "id": "-WqQB1xMV4RS"
      },
      "source": [
        "SoftMax:\n",
        "$$S(x)_i = \\frac{e^{x_i}}{\\displaystyle\\sum_{k \\mathop =1}^K e^{x_k}},$$ \n",
        "где $i$ -- номер класса.\n",
        "\n",
        "$$E = CE(y, \\hat{y}) =  -\\sum_{i} y_{i}\\ln(\\hat{y}_i)\n",
        "  = -\\sum_{i} y_{i}\\hat{y}_i + \\ln \\sum_j e^{\\hat{y}} $$\n",
        "\n",
        "$$ \\frac{dE}{dx_k}  = -y_k + \\frac{1}{\\sum_j e^{x_j}\n",
        "} e^{x_k} = S(x)_k - y_k $$\n",
        "\n",
        "$$ \\frac{dE}{dh}  = S(x) - y $$"
      ]
    },
    {
      "cell_type": "markdown",
      "metadata": {
        "id": "LAJCowfwVr3G"
      },
      "source": [
        "&nbsp;\n",
        "\n",
        "&nbsp;\n",
        "\n",
        "&nbsp;\n",
        "\n",
        "&nbsp;\n",
        "\n",
        "&nbsp;\n",
        "\n",
        "&nbsp;\n",
        "\n",
        "&nbsp;\n",
        "\n",
        "&nbsp;\n",
        "\n",
        "&nbsp;\n",
        "\n",
        "&nbsp;\n",
        "\n",
        "&nbsp;\n",
        "\n",
        "\n",
        "\n",
        "![](https://images.squarespace-cdn.com/content/v1/551e1babe4b0aa77af01e45f/1462484387144-SR29J02ZZYCMS9N8D71J/image-asset.jpeg?format=1500w)"
      ]
    }
  ],
  "metadata": {
    "colab": {
      "provenance": []
    },
    "kernelspec": {
      "display_name": "Python 3",
      "name": "python3"
    },
    "language_info": {
      "codemirror_mode": {
        "name": "ipython",
        "version": 3
      },
      "file_extension": ".py",
      "mimetype": "text/x-python",
      "name": "python",
      "nbconvert_exporter": "python",
      "pygments_lexer": "ipython3",
      "version": "3.10.12"
    }
  },
  "nbformat": 4,
  "nbformat_minor": 0
}
