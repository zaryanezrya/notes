{
 "cells": [
  {
   "cell_type": "code",
   "execution_count": 1,
   "id": "294d6518",
   "metadata": {},
   "outputs": [],
   "source": [
    "import torch\n",
    "from torch import nn\n",
    "from torch.utils.data import DataLoader\n",
    "from torchvision import datasets\n",
    "from torchvision.transforms import ToTensor\n",
    "\n",
    "# Download training data from open datasets.\n",
    "training_data = datasets.FashionMNIST(\n",
    "    root=\"data\",\n",
    "    train=True,\n",
    "    download=True,\n",
    "    transform=ToTensor(),\n",
    ")\n",
    "\n",
    "# Download test data from open datasets.\n",
    "test_data = datasets.FashionMNIST(\n",
    "    root=\"data\",\n",
    "    train=False,\n",
    "    download=True,\n",
    "    transform=ToTensor(),\n",
    ")"
   ]
  },
  {
   "cell_type": "code",
   "execution_count": 2,
   "id": "8495a215",
   "metadata": {},
   "outputs": [],
   "source": [
    "from torch import nn\n",
    "\n",
    "class FashionMNISTNetwork(nn.Module):\n",
    "    def __init__(self):\n",
    "        super().__init__()\n",
    "        self.flatten = nn.Flatten()\n",
    "        self.l1 = nn.Sequential(\n",
    "            nn.Linear(28*28, 512),\n",
    "            nn.ReLU(),\n",
    "        )\n",
    "        self.l2 = nn.Sequential(\n",
    "            nn.Linear(512, 512),\n",
    "            nn.ReLU(),\n",
    "        )\n",
    "        self.l3 = nn.Sequential(\n",
    "            nn.Linear(512, 10)\n",
    "        )\n",
    "\n",
    "    def forward(self, x):\n",
    "        x = self.flatten(x)\n",
    "        logits = self.l3(self.l2(self.l1(x)))\n",
    "        return logits"
   ]
  },
  {
   "cell_type": "code",
   "execution_count": 3,
   "id": "4e86f0d9",
   "metadata": {},
   "outputs": [],
   "source": [
    "class FashionMNISTNetwork(nn.Module):\n",
    "    \n",
    "    def __init__(self):\n",
    "        super(FashionMNISTNetwork, self).__init__()\n",
    "        \n",
    "        self.layer1 = nn.Sequential(\n",
    "            nn.Conv2d(in_channels=1, out_channels=32, kernel_size=3, padding=1),\n",
    "            nn.BatchNorm2d(32),\n",
    "            nn.ReLU(),\n",
    "            nn.MaxPool2d(kernel_size=2, stride=2)\n",
    "        )\n",
    "        \n",
    "        self.layer2 = nn.Sequential(\n",
    "            nn.Conv2d(in_channels=32, out_channels=64, kernel_size=3),\n",
    "            nn.BatchNorm2d(64),\n",
    "            nn.ReLU(),\n",
    "            nn.MaxPool2d(2)\n",
    "        )\n",
    "        \n",
    "        self.fc1 = nn.Linear(in_features=64*6*6, out_features=600)\n",
    "        self.drop = nn.Dropout2d(0.25)\n",
    "        self.fc2 = nn.Linear(in_features=600, out_features=120)\n",
    "        self.fc3 = nn.Linear(in_features=120, out_features=10)\n",
    "        \n",
    "    def forward(self, x):\n",
    "        out = self.layer1(x)\n",
    "        out = self.layer2(out)\n",
    "        out = out.view(out.size(0), -1)\n",
    "        out = self.fc1(out)\n",
    "        out = self.drop(out)\n",
    "        out = self.fc2(out)\n",
    "        out = self.fc3(out)\n",
    "        \n",
    "        return out"
   ]
  },
  {
   "cell_type": "code",
   "execution_count": 6,
   "id": "d9214cbf",
   "metadata": {},
   "outputs": [],
   "source": [
    "from ogo import ExperimentDescription, generate_experiment, model_train_step, model_test\n",
    "\n",
    "description = ExperimentDescription(\n",
    "    model=FashionMNISTNetwork,\n",
    "    loss=nn.CrossEntropyLoss,\n",
    "    optimizer=torch.optim.Adam,\n",
    "    optimizer_params={\"lr\": 1e-3},\n",
    "    dataset_train=training_data,\n",
    "    dataset_test=test_data,\n",
    "    batch_size=128,\n",
    "    epochs=10,\n",
    "    model_copies_epochs=1,\n",
    "    model_copies_submodules=[[\"layer1\"], [\"layer2\"], [\"fc1\"], [\"fc2\", \"fc3\"]],\n",
    "    model_reference_device=\"cuda\",\n",
    "    model_general_device=\"cuda\",\n",
    "    model_copies_devices=[\"cuda\",\"cuda\",\"cuda\",\"cuda\"],\n",
    "    model_train_step=model_train_step,\n",
    "    model_test=model_test\n",
    ")\n",
    "\n",
    "experiment = generate_experiment(description)"
   ]
  },
  {
   "cell_type": "code",
   "execution_count": 10,
   "id": "c6ccb31b",
   "metadata": {},
   "outputs": [
    {
     "name": "stderr",
     "output_type": "stream",
     "text": [
      "  0%|          | 0/10 [00:00<?, ?it/s]c:\\Users\\ivans\\AppData\\Local\\pypoetry\\Cache\\virtualenvs\\experiments-0w4_GPqJ-py3.12\\Lib\\site-packages\\torch\\nn\\functional.py:1538: UserWarning: dropout2d: Received a 2-D input to dropout2d, which is deprecated and will result in an error in a future release. To retain the behavior and silence this warning, please use dropout instead. Note that dropout2d exists to provide channel-wise dropout on inputs with 2 spatial dimensions, a channel dimension, and an optional batch dimension (i.e. 3D or 4D inputs).\n",
      "  warnings.warn(warn_msg)\n",
      " 10%|█         | 1/10 [00:09<01:23,  9.24s/it]"
     ]
    },
    {
     "name": "stdout",
     "output_type": "stream",
     "text": [
      "{'accuracy': 87.91, 'loss': 0.3253603954858418}\n"
     ]
    },
    {
     "name": "stderr",
     "output_type": "stream",
     "text": [
      " 20%|██        | 2/10 [00:18<01:14,  9.28s/it]"
     ]
    },
    {
     "name": "stdout",
     "output_type": "stream",
     "text": [
      "{'accuracy': 88.79, 'loss': 0.31895303537573994}\n"
     ]
    },
    {
     "name": "stderr",
     "output_type": "stream",
     "text": [
      " 30%|███       | 3/10 [00:27<01:04,  9.24s/it]"
     ]
    },
    {
     "name": "stdout",
     "output_type": "stream",
     "text": [
      "{'accuracy': 90.06, 'loss': 0.2764297504968281}\n"
     ]
    },
    {
     "name": "stderr",
     "output_type": "stream",
     "text": [
      " 40%|████      | 4/10 [00:37<00:55,  9.27s/it]"
     ]
    },
    {
     "name": "stdout",
     "output_type": "stream",
     "text": [
      "{'accuracy': 90.14, 'loss': 0.2805524583481535}\n"
     ]
    },
    {
     "name": "stderr",
     "output_type": "stream",
     "text": [
      " 50%|█████     | 5/10 [00:46<00:46,  9.25s/it]"
     ]
    },
    {
     "name": "stdout",
     "output_type": "stream",
     "text": [
      "{'accuracy': 90.09, 'loss': 0.2847663335785081}\n"
     ]
    },
    {
     "name": "stderr",
     "output_type": "stream",
     "text": [
      " 60%|██████    | 6/10 [00:55<00:36,  9.20s/it]"
     ]
    },
    {
     "name": "stdout",
     "output_type": "stream",
     "text": [
      "{'accuracy': 90.23, 'loss': 0.27417849164597596}\n"
     ]
    },
    {
     "name": "stderr",
     "output_type": "stream",
     "text": [
      " 70%|███████   | 7/10 [01:04<00:27,  9.19s/it]"
     ]
    },
    {
     "name": "stdout",
     "output_type": "stream",
     "text": [
      "{'accuracy': 91.02, 'loss': 0.26133936388960366}\n"
     ]
    },
    {
     "name": "stderr",
     "output_type": "stream",
     "text": [
      " 80%|████████  | 8/10 [01:13<00:18,  9.13s/it]"
     ]
    },
    {
     "name": "stdout",
     "output_type": "stream",
     "text": [
      "{'accuracy': 90.14999999999999, 'loss': 0.28136231250400784}\n"
     ]
    },
    {
     "name": "stderr",
     "output_type": "stream",
     "text": [
      " 90%|█████████ | 9/10 [01:22<00:09,  9.13s/it]"
     ]
    },
    {
     "name": "stdout",
     "output_type": "stream",
     "text": [
      "{'accuracy': 90.79, 'loss': 0.28849066265776185}\n"
     ]
    },
    {
     "name": "stderr",
     "output_type": "stream",
     "text": [
      "100%|██████████| 10/10 [01:31<00:00,  9.17s/it]"
     ]
    },
    {
     "name": "stdout",
     "output_type": "stream",
     "text": [
      "{'accuracy': 91.41, 'loss': 0.27355715755043153}\n"
     ]
    },
    {
     "name": "stderr",
     "output_type": "stream",
     "text": [
      "\n"
     ]
    }
   ],
   "source": [
    "from ogo import experiment_train_reference\n",
    "\n",
    "experiment_train_reference(experiment)\n",
    "# experiment.model_reference.history"
   ]
  },
  {
   "cell_type": "code",
   "execution_count": 8,
   "id": "02bf1e37",
   "metadata": {},
   "outputs": [
    {
     "name": "stderr",
     "output_type": "stream",
     "text": [
      "  0%|          | 0/10 [00:00<?, ?it/s]c:\\Users\\ivans\\AppData\\Local\\pypoetry\\Cache\\virtualenvs\\experiments-0w4_GPqJ-py3.12\\Lib\\site-packages\\torch\\nn\\functional.py:1538: UserWarning: dropout2d: Received a 2-D input to dropout2d, which is deprecated and will result in an error in a future release. To retain the behavior and silence this warning, please use dropout instead. Note that dropout2d exists to provide channel-wise dropout on inputs with 2 spatial dimensions, a channel dimension, and an optional batch dimension (i.e. 3D or 4D inputs).\n",
      "  warnings.warn(warn_msg)\n"
     ]
    },
    {
     "name": "stdout",
     "output_type": "stream",
     "text": [
      "{'accuracy': 34.03, 'loss': 2.11623311646377}\n",
      "{'accuracy': 78.94, 'loss': 1.075902820387973}\n",
      "{'accuracy': 86.11999999999999, 'loss': 0.42124378982978533}\n",
      "{'accuracy': 84.78999999999999, 'loss': 0.42574848215791244}\n",
      "best: ['fc1']\n"
     ]
    },
    {
     "name": "stderr",
     "output_type": "stream",
     "text": [
      " 10%|█         | 1/10 [00:37<05:37, 37.45s/it]"
     ]
    },
    {
     "name": "stdout",
     "output_type": "stream",
     "text": [
      "{'accuracy': 86.11999999999999, 'loss': 0.42124378982978533}\n",
      "{'accuracy': 88.34, 'loss': 0.33968740531915353}\n",
      "{'accuracy': 88.48, 'loss': 0.3274298025460183}\n",
      "{'accuracy': 87.66000000000001, 'loss': 0.37351258910154994}\n",
      "{'accuracy': 87.49, 'loss': 0.3592701786303822}\n",
      "best: ['layer2']\n"
     ]
    },
    {
     "name": "stderr",
     "output_type": "stream",
     "text": [
      " 20%|██        | 2/10 [01:14<04:58, 37.36s/it]"
     ]
    },
    {
     "name": "stdout",
     "output_type": "stream",
     "text": [
      "{'accuracy': 88.48, 'loss': 0.3274298025460183}\n",
      "{'accuracy': 89.64, 'loss': 0.2929821474642693}\n",
      "{'accuracy': 89.34, 'loss': 0.2940092780922033}\n",
      "{'accuracy': 85.07000000000001, 'loss': 0.5079092147606837}\n",
      "{'accuracy': 89.2, 'loss': 0.31541666181027134}\n",
      "best: ['layer1']\n"
     ]
    },
    {
     "name": "stderr",
     "output_type": "stream",
     "text": [
      " 30%|███       | 3/10 [01:52<04:23, 37.64s/it]"
     ]
    },
    {
     "name": "stdout",
     "output_type": "stream",
     "text": [
      "{'accuracy': 89.64, 'loss': 0.2929821474642693}\n",
      "{'accuracy': 89.84, 'loss': 0.29192363102979296}\n",
      "{'accuracy': 89.58, 'loss': 0.2973957769101179}\n",
      "{'accuracy': 86.38, 'loss': 0.4269616081367565}\n",
      "{'accuracy': 89.12, 'loss': 0.31561744081068643}\n",
      "best: ['layer1']\n"
     ]
    },
    {
     "name": "stderr",
     "output_type": "stream",
     "text": [
      " 40%|████      | 4/10 [02:30<03:47, 37.84s/it]"
     ]
    },
    {
     "name": "stdout",
     "output_type": "stream",
     "text": [
      "{'accuracy': 89.84, 'loss': 0.29192363102979296}\n",
      "{'accuracy': 89.92, 'loss': 0.2919271814672253}\n",
      "{'accuracy': 89.83, 'loss': 0.2952901702138442}\n",
      "{'accuracy': 87.14, 'loss': 0.3962921194637878}\n",
      "{'accuracy': 89.64999999999999, 'loss': 0.2964686549539807}\n",
      "best: ['layer1']\n"
     ]
    },
    {
     "name": "stderr",
     "output_type": "stream",
     "text": [
      " 50%|█████     | 5/10 [03:08<03:08, 37.73s/it]"
     ]
    },
    {
     "name": "stdout",
     "output_type": "stream",
     "text": [
      "{'accuracy': 89.92, 'loss': 0.2919271814672253}\n",
      "{'accuracy': 89.94, 'loss': 0.28967248884182945}\n",
      "{'accuracy': 89.46, 'loss': 0.29585633775855924}\n",
      "{'accuracy': 88.58, 'loss': 0.3637058172799364}\n",
      "{'accuracy': 88.52, 'loss': 0.32177655700641344}\n",
      "best: ['layer1']\n"
     ]
    },
    {
     "name": "stderr",
     "output_type": "stream",
     "text": [
      " 60%|██████    | 6/10 [03:45<02:30, 37.60s/it]"
     ]
    },
    {
     "name": "stdout",
     "output_type": "stream",
     "text": [
      "{'accuracy': 89.94, 'loss': 0.28967248884182945}\n",
      "{'accuracy': 89.75999999999999, 'loss': 0.2927723962672149}\n",
      "{'accuracy': 89.64, 'loss': 0.2886078427486782}\n",
      "{'accuracy': 87.32, 'loss': 0.39899535081054593}\n",
      "{'accuracy': 89.33, 'loss': 0.3074871200738074}\n",
      "best: ['layer2']\n"
     ]
    },
    {
     "name": "stderr",
     "output_type": "stream",
     "text": [
      " 70%|███████   | 7/10 [04:23<01:52, 37.65s/it]"
     ]
    },
    {
     "name": "stdout",
     "output_type": "stream",
     "text": [
      "{'accuracy': 89.64, 'loss': 0.2886078427486782}\n",
      "{'accuracy': 89.98, 'loss': 0.28403529468216476}\n",
      "{'accuracy': 89.56, 'loss': 0.2920239473445506}\n",
      "{'accuracy': 86.86, 'loss': 0.4338406765762764}\n",
      "{'accuracy': 89.78, 'loss': 0.29104419524156594}\n",
      "best: ['layer1']\n"
     ]
    },
    {
     "name": "stderr",
     "output_type": "stream",
     "text": [
      " 80%|████████  | 8/10 [05:00<01:15, 37.51s/it]"
     ]
    },
    {
     "name": "stdout",
     "output_type": "stream",
     "text": [
      "{'accuracy': 89.98, 'loss': 0.28403529468216476}\n",
      "{'accuracy': 90.05, 'loss': 0.27999336036700234}\n",
      "{'accuracy': 89.3, 'loss': 0.30548549773572364}\n",
      "{'accuracy': 88.91, 'loss': 0.3443425903214684}\n",
      "{'accuracy': 89.12, 'loss': 0.3028871628302562}\n",
      "best: ['layer1']\n"
     ]
    },
    {
     "name": "stderr",
     "output_type": "stream",
     "text": [
      " 90%|█████████ | 9/10 [05:38<00:37, 37.49s/it]"
     ]
    },
    {
     "name": "stdout",
     "output_type": "stream",
     "text": [
      "{'accuracy': 90.05, 'loss': 0.27999336036700234}\n",
      "{'accuracy': 90.31, 'loss': 0.27710176721403873}\n",
      "{'accuracy': 89.83, 'loss': 0.293283988026124}\n",
      "{'accuracy': 89.57000000000001, 'loss': 0.3196370108406755}\n",
      "{'accuracy': 90.07, 'loss': 0.2870435760934142}\n",
      "best: ['layer1']\n"
     ]
    },
    {
     "name": "stderr",
     "output_type": "stream",
     "text": [
      "100%|██████████| 10/10 [06:15<00:00, 37.51s/it]"
     ]
    },
    {
     "name": "stdout",
     "output_type": "stream",
     "text": [
      "{'accuracy': 90.31, 'loss': 0.27710176721403873}\n"
     ]
    },
    {
     "name": "stderr",
     "output_type": "stream",
     "text": [
      "\n"
     ]
    }
   ],
   "source": [
    "from ogo import experiment_train_general\n",
    "\n",
    "experiment_train_general(experiment)\n",
    "# experiment.model_general.history"
   ]
  },
  {
   "cell_type": "code",
   "execution_count": 11,
   "id": "f6ed1005",
   "metadata": {},
   "outputs": [
    {
     "data": {
      "image/png": "[encoded data removed]",
      "text/plain": [
       "<Figure size 1280x960 with 1 Axes>"
      ]
     },
     "metadata": {},
     "output_type": "display_data"
    }
   ],
   "source": [
    "import matplotlib.pyplot as plt\n",
    "plt.rcParams['figure.dpi'] = 200\n",
    "\n",
    "start = 0\n",
    "stop = experiment.epochs\n",
    "x = range(start, stop)\n",
    "copy_step = 1\n",
    "general_step = 1\n",
    "reference_step = 1\n",
    "\n",
    "# for m in experiment.model_copies:\n",
    "#     plt.plot(x, [x[\"loss\"] for x in m.history[start:stop:copy_step]], linestyle='dotted', color='gray')\n",
    "\n",
    "plt.plot(x, [x[\"loss\"] for x in experiment.model_copies[0].history[start:stop:copy_step]], linestyle='dotted', color='gray', label='Worker')\n",
    "\n",
    "for m in experiment.model_copies[:-1]:\n",
    "    plt.plot(x, [x[\"loss\"] for x in m.history[start:stop:copy_step]], linestyle='dotted', color='gray')\n",
    "\n",
    "plt.plot(x, [x[\"loss\"] for x in experiment.model_general.history[start:stop:general_step]], label='Parallel', color='black', linestyle='solid')\n",
    "plt.plot(x, [x[\"loss\"] for x in experiment.model_reference.history[start:stop:reference_step]], label='Reference', color='black', linestyle='dashed')\n",
    "\n",
    "plt.legend()\n",
    "plt.yscale('log')\n",
    "plt.show()"
   ]
  },
  {
   "cell_type": "code",
   "execution_count": null,
   "id": "4981b561",
   "metadata": {},
   "outputs": [],
   "source": [
    "experiment.model_reference.history[-1]"
   ]
  }
 ],
 "metadata": {
  "kernelspec": {
   "display_name": "experiments-0w4_GPqJ-py3.12",
   "language": "python",
   "name": "python3"
  },
  "language_info": {
   "codemirror_mode": {
    "name": "ipython",
    "version": 3
   },
   "file_extension": ".py",
   "mimetype": "text/x-python",
   "name": "python",
   "nbconvert_exporter": "python",
   "pygments_lexer": "ipython3",
   "version": "3.12.2"
  }
 },
 "nbformat": 4,
 "nbformat_minor": 5
}
